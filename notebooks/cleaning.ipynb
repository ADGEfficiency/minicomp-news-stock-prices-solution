{
 "cells": [
  {
   "cell_type": "code",
   "execution_count": null,
   "metadata": {},
   "outputs": [],
   "source": [
    "from pathlib import Path\n",
    "from src.utils import load_dataset, home\n",
    "from src.data.cleaning import generate_labels, test_generate_labels, inspect_df\n",
    "\n",
    "raw = home / 'data' / 'raw'\n",
    "raw = load_dataset(raw)"
   ]
  },
  {
   "cell_type": "markdown",
   "metadata": {},
   "source": [
    "## DJIA\n",
    "\n",
    "Stock market infomation"
   ]
  },
  {
   "cell_type": "code",
   "execution_count": null,
   "metadata": {},
   "outputs": [],
   "source": [
    "dija = raw['DJIA_table_train'].copy()\n",
    "dija.head()"
   ]
  },
  {
   "cell_type": "code",
   "execution_count": null,
   "metadata": {},
   "outputs": [],
   "source": [
    "inspect_df(dija)"
   ]
  },
  {
   "cell_type": "markdown",
   "metadata": {},
   "source": [
    "Want to check the label column - to do this we need to compare with the value before:"
   ]
  },
  {
   "cell_type": "code",
   "execution_count": null,
   "metadata": {},
   "outputs": [],
   "source": [
    "d = test_generate_labels()\n",
    "expected_labels = generate_labels(dija)\n",
    "sum(expected_labels['label'] == dija['label']) - dija.shape[0]\n",
    "#  all the labels are incorrect!"
   ]
  },
  {
   "cell_type": "code",
   "execution_count": null,
   "metadata": {},
   "outputs": [],
   "source": [
    "dija.loc[:, 'original-label'] = dija.loc[:, 'label']\n",
    "dija.loc[:, 'label'] = expected_labels.loc[:, 'label']\n",
    "sum(expected_labels['label'] == dija['label']) - dija.shape[0]"
   ]
  },
  {
   "cell_type": "code",
   "execution_count": null,
   "metadata": {},
   "outputs": [],
   "source": [
    "dija"
   ]
  },
  {
   "cell_type": "markdown",
   "metadata": {},
   "source": [
    "## Combined"
   ]
  },
  {
   "cell_type": "code",
   "execution_count": null,
   "metadata": {},
   "outputs": [],
   "source": [
    "comb = raw['Combined_News_DJIA_train'].copy()\n",
    "comb.head(2)"
   ]
  },
  {
   "cell_type": "code",
   "execution_count": null,
   "metadata": {},
   "outputs": [],
   "source": [
    "#comb = comb.set_index('Date', drop=True)\n",
    "ds = pd.concat([comb, dija], axis=1)\n",
    "ds.head(2)"
   ]
  },
  {
   "cell_type": "code",
   "execution_count": null,
   "metadata": {},
   "outputs": [],
   "source": [
    "eq_mask = ds.loc[:, 'Label'] == ds.loc[:, 'label']\n",
    "sum(eq_mask)"
   ]
  },
  {
   "cell_type": "markdown",
   "metadata": {},
   "source": [
    "Below we can see that the disagreements between the `Label` col (from combine) and `label` (from DIJA) occur when we have nulls in either `Label` or in `Close`:"
   ]
  },
  {
   "cell_type": "code",
   "execution_count": null,
   "metadata": {},
   "outputs": [],
   "source": [
    "ds.loc[~eq_mask, ['Label', 'label', 'Close', 'original-label']].head()"
   ]
  },
  {
   "cell_type": "markdown",
   "metadata": {},
   "source": [
    "## Conclusions\n",
    "\n",
    "We can trust the combined labels, but not the DIJA labels"
   ]
  }
 ],
 "metadata": {
  "kernelspec": {
   "display_name": "Python 3",
   "language": "python",
   "name": "python3"
  },
  "language_info": {
   "codemirror_mode": {
    "name": "ipython",
    "version": 3
   },
   "file_extension": ".py",
   "mimetype": "text/x-python",
   "name": "python",
   "nbconvert_exporter": "python",
   "pygments_lexer": "ipython3",
   "version": "3.7.2"
  }
 },
 "nbformat": 4,
 "nbformat_minor": 4
}
