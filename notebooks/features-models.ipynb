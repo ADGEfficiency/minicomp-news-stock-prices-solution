{
 "cells": [
  {
   "cell_type": "code",
   "execution_count": null,
   "metadata": {},
   "outputs": [],
   "source": [
    "from sklearn.feature_extraction.text import CountVectorizer\n",
    "\n",
    "from src.data.features import split_train_test, split_features_target, make_document_vectors, make_day_feature\n",
    "from src.data.features import sentiment_subjectivity\n",
    "from src.data.features import generate_ents\n",
    "\n",
    "from src.utils import load_dataset, home\n",
    "\n",
    "raw = home / 'data' / 'interim'\n",
    "raw = load_dataset(raw)\n",
    "comb = raw['combined']\n",
    "comb = comb.iloc[:, :]\n",
    "\n",
    "comb.head(2)"
   ]
  },
  {
   "cell_type": "code",
   "execution_count": null,
   "metadata": {},
   "outputs": [],
   "source": [
    "tr, te = split_train_test(comb)"
   ]
  },
  {
   "cell_type": "code",
   "execution_count": null,
   "metadata": {},
   "outputs": [],
   "source": [
    "load = False\n",
    "x_tr, y_tr = split_features_target(tr, 'train', load=load)\n",
    "x_te, y_te = split_features_target(te, 'test', load=load)"
   ]
  },
  {
   "cell_type": "markdown",
   "metadata": {},
   "source": [
    "## tidf"
   ]
  },
  {
   "cell_type": "code",
   "execution_count": null,
   "metadata": {},
   "outputs": [],
   "source": [
    "from sklearn.linear_model import LogisticRegression\n",
    "from sklearn.ensemble import RandomForestClassifier\n",
    "\n",
    "from src.models.train import fit, rf_params, lr_params\n",
    "from sklearn.feature_extraction.text import TfidfVectorizer\n",
    "\n",
    "rf = fit(\n",
    "    RandomForestClassifier(**rf_params),\n",
    "    x_tr, y_tr, x_te, y_te, vec=TfidfVectorizer()\n",
    ")"
   ]
  },
  {
   "cell_type": "code",
   "execution_count": null,
   "metadata": {},
   "outputs": [],
   "source": [
    "rf = fit(\n",
    "    LogisticRegression(**lr_params),\n",
    "    x_tr, y_tr, x_te, y_te, vec=TfidfVectorizer()\n",
    ")"
   ]
  },
  {
   "cell_type": "markdown",
   "metadata": {},
   "source": [
    "## doc2vec"
   ]
  },
  {
   "cell_type": "code",
   "execution_count": null,
   "metadata": {},
   "outputs": [],
   "source": [
    "tr_vecs, te_vecs = make_document_vectors(x_tr, x_te)"
   ]
  },
  {
   "cell_type": "code",
   "execution_count": null,
   "metadata": {},
   "outputs": [],
   "source": [
    "rf = fit(\n",
    "    RandomForestClassifier(**rf_params),\n",
    "    tr_vecs, y_tr, te_vecs, y_te\n",
    ")"
   ]
  },
  {
   "cell_type": "markdown",
   "metadata": {},
   "source": [
    "## time series - day of week"
   ]
  },
  {
   "cell_type": "code",
   "execution_count": null,
   "metadata": {},
   "outputs": [],
   "source": [
    "tr_dates, te_dates = make_day_feature(x_tr, x_te)\n",
    "\n",
    "rf = fit(\n",
    "    RandomForestClassifier(**rf_params),\n",
    "    tr_dates, y_tr, te_dates, y_te\n",
    ")"
   ]
  },
  {
   "cell_type": "markdown",
   "metadata": {},
   "source": [
    "## Senitment & subjectivity"
   ]
  },
  {
   "cell_type": "code",
   "execution_count": null,
   "metadata": {},
   "outputs": [],
   "source": [
    "x_s_tr = sentiment_subjectivity(x_tr)\n",
    "x_s_te = sentiment_subjectivity(x_te)\n",
    "\n",
    "rf = fit(\n",
    "    RandomForestClassifier(**rf_params),\n",
    "    x_s_tr.values, y_tr, x_s_te.values, y_te\n",
    ")"
   ]
  },
  {
   "cell_type": "markdown",
   "metadata": {},
   "source": [
    "## entity extraction "
   ]
  },
  {
   "cell_type": "code",
   "execution_count": null,
   "metadata": {},
   "outputs": [],
   "source": [
    "tr_ents = generate_ents(x_tr)\n",
    "te_ents = generate_ents(x_te)\n",
    "\n",
    "enc = CountVectorizer()\n",
    "tr_ents = enc.fit_transform(tr_ents)\n",
    "te_ents = enc.transform(te_ents)\n",
    "\n",
    "rf = fit(\n",
    "    RandomForestClassifier(**rf_params),\n",
    "    tr_ents, y_tr, te_ents, y_te\n",
    ")"
   ]
  },
  {
   "cell_type": "code",
   "execution_count": null,
   "metadata": {},
   "outputs": [],
   "source": [
    "x_tr.head()"
   ]
  },
  {
   "cell_type": "code",
   "execution_count": null,
   "metadata": {},
   "outputs": [],
   "source": [
    "#  tdif\n",
    "vec = TfidfVectorizer()\n",
    "\n",
    "tr_f = [\n",
    "    vec.fit_transform(x_tr), \n",
    "]\n",
    "te_f = [\n",
    "    vec.transform(x_te), ]"
   ]
  }
 ],
 "metadata": {
  "kernelspec": {
   "display_name": "Python 3",
   "language": "python",
   "name": "python3"
  },
  "language_info": {
   "codemirror_mode": {
    "name": "ipython",
    "version": 3
   },
   "file_extension": ".py",
   "mimetype": "text/x-python",
   "name": "python",
   "nbconvert_exporter": "python",
   "pygments_lexer": "ipython3",
   "version": "3.7.2"
  }
 },
 "nbformat": 4,
 "nbformat_minor": 4
}
