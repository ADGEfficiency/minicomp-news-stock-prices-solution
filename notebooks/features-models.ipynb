{
 "cells": [
  {
   "cell_type": "code",
   "execution_count": 1,
   "metadata": {},
   "outputs": [
    {
     "name": "stdout",
     "output_type": "stream",
     "text": [
      "dija-labels (1584, 1)\n",
      "combined (1584, 26)\n"
     ]
    },
    {
     "data": {
      "text/html": [
       "<div>\n",
       "<style scoped>\n",
       "    .dataframe tbody tr th:only-of-type {\n",
       "        vertical-align: middle;\n",
       "    }\n",
       "\n",
       "    .dataframe tbody tr th {\n",
       "        vertical-align: top;\n",
       "    }\n",
       "\n",
       "    .dataframe thead th {\n",
       "        text-align: right;\n",
       "    }\n",
       "</style>\n",
       "<table border=\"1\" class=\"dataframe\">\n",
       "  <thead>\n",
       "    <tr style=\"text-align: right;\">\n",
       "      <th></th>\n",
       "      <th>Top1</th>\n",
       "      <th>Top2</th>\n",
       "      <th>Top3</th>\n",
       "      <th>Top4</th>\n",
       "      <th>Top5</th>\n",
       "      <th>Top6</th>\n",
       "      <th>Top7</th>\n",
       "      <th>Top8</th>\n",
       "      <th>Top9</th>\n",
       "      <th>Top10</th>\n",
       "      <th>Top11</th>\n",
       "      <th>Top12</th>\n",
       "      <th>Top13</th>\n",
       "      <th>Top14</th>\n",
       "      <th>Top15</th>\n",
       "      <th>Top16</th>\n",
       "      <th>Top17</th>\n",
       "      <th>Top18</th>\n",
       "      <th>Top19</th>\n",
       "      <th>Top20</th>\n",
       "      <th>Top21</th>\n",
       "      <th>Top22</th>\n",
       "      <th>Top23</th>\n",
       "      <th>Top24</th>\n",
       "      <th>Top25</th>\n",
       "      <th>final-label</th>\n",
       "    </tr>\n",
       "    <tr>\n",
       "      <th>Label</th>\n",
       "      <th></th>\n",
       "      <th></th>\n",
       "      <th></th>\n",
       "      <th></th>\n",
       "      <th></th>\n",
       "      <th></th>\n",
       "      <th></th>\n",
       "      <th></th>\n",
       "      <th></th>\n",
       "      <th></th>\n",
       "      <th></th>\n",
       "      <th></th>\n",
       "      <th></th>\n",
       "      <th></th>\n",
       "      <th></th>\n",
       "      <th></th>\n",
       "      <th></th>\n",
       "      <th></th>\n",
       "      <th></th>\n",
       "      <th></th>\n",
       "      <th></th>\n",
       "      <th></th>\n",
       "      <th></th>\n",
       "      <th></th>\n",
       "      <th></th>\n",
       "      <th></th>\n",
       "    </tr>\n",
       "  </thead>\n",
       "  <tbody>\n",
       "    <tr>\n",
       "      <th>0.0</th>\n",
       "      <td>Georgia 'downs two Russian warplanes' as count...</td>\n",
       "      <td></td>\n",
       "      <td>Russia Today: Columns of troops roll into Sout...</td>\n",
       "      <td>Russian tanks are moving towards the capital o...</td>\n",
       "      <td>Afghan children raped with 'impunity,' U.N. of...</td>\n",
       "      <td>150 Russian tanks have entered South Ossetia w...</td>\n",
       "      <td>Breaking: Georgia invades South Ossetia, Russi...</td>\n",
       "      <td>The 'enemy combatent' trials are nothing but a...</td>\n",
       "      <td>Georgian troops retreat from S. Osettain capit...</td>\n",
       "      <td>Did the U.S. Prep Georgia for War with Russia?</td>\n",
       "      <td></td>\n",
       "      <td>Announcing:Class Action Lawsuit on Behalf of A...</td>\n",
       "      <td>So---Russia and Georgia are at war and the NYT...</td>\n",
       "      <td>China tells Bush to stay out of other countrie...</td>\n",
       "      <td>Did World War III start today?</td>\n",
       "      <td>Georgia Invades South Ossetia - if Russia gets...</td>\n",
       "      <td>Al-Qaeda Faces Islamist Backlash</td>\n",
       "      <td>Condoleezza Rice: \"The US would not act to pre...</td>\n",
       "      <td>This is a busy day:  The European Union has ap...</td>\n",
       "      <td>Georgia will withdraw 1,000 soldiers from Iraq...</td>\n",
       "      <td>Why the Pentagon Thinks Attacking Iran is a Ba...</td>\n",
       "      <td>Caucasus in crisis: Georgia invades South Ossetia</td>\n",
       "      <td>Indian shoe manufactory  - And again in a seri...</td>\n",
       "      <td>Visitors Suffering from Mental Illnesses Banne...</td>\n",
       "      <td>No Help for Mexico's Kidnapping Surge</td>\n",
       "      <td>0.0</td>\n",
       "    </tr>\n",
       "    <tr>\n",
       "      <th>1.0</th>\n",
       "      <td>Why wont America and Nato help us? If they won...</td>\n",
       "      <td>Bush puts foot down on Georgian conflict</td>\n",
       "      <td>Jewish Georgian minister: Thanks to Israeli tr...</td>\n",
       "      <td>Georgian army flees in disarray as Russians ad...</td>\n",
       "      <td>Olympic opening ceremony fireworks 'faked</td>\n",
       "      <td>What were the Mossad with fraudulent New Zeala...</td>\n",
       "      <td>Russia angered by Israeli military sale to Geo...</td>\n",
       "      <td>An American citizen living in S.Ossetia blames...</td>\n",
       "      <td>Welcome To World War IV! Now In High Definition!</td>\n",
       "      <td>Georgia's move, a mistake of monumental propor...</td>\n",
       "      <td>Russia presses deeper into Georgia; U.S. says ...</td>\n",
       "      <td>Abhinav Bindra wins first ever Individual Olym...</td>\n",
       "      <td>U.S. ship heads for Arctic to define territory</td>\n",
       "      <td>Drivers in a Jerusalem taxi station threaten t...</td>\n",
       "      <td>The French Team is Stunned by Phelps and the 4...</td>\n",
       "      <td>Israel and the US behind the Georgian aggression?</td>\n",
       "      <td>\"Do not believe TV, neither Russian nor Georgi...</td>\n",
       "      <td>Riots are still going on in Montreal (Canada) ...</td>\n",
       "      <td>China to overtake US as largest manufacturer</td>\n",
       "      <td>War in South Ossetia [PICS]</td>\n",
       "      <td>Israeli Physicians Group Condemns State Torture</td>\n",
       "      <td>Russia has just beaten the United States over...</td>\n",
       "      <td>Perhaps *the* question about the Georgia - Rus...</td>\n",
       "      <td>Russia is so much better at war</td>\n",
       "      <td></td>\n",
       "      <td>1.0</td>\n",
       "    </tr>\n",
       "  </tbody>\n",
       "</table>\n",
       "</div>"
      ],
      "text/plain": [
       "                                                    Top1                                      Top2                                               Top3                                               Top4                                               Top5                                               Top6                                               Top7                                               Top8                                               Top9                                              Top10                                              Top11                                              Top12                                              Top13                                              Top14                                              Top15                                              Top16                                              Top17                                              Top18                                              Top19  \\\n",
       "Label                                                                                                                                                                                                                                                                                                                                                                                                                                                                                                                                                                                                                                                                                                                                                                                                                                                                                                                                                                                                   \n",
       "0.0    Georgia 'downs two Russian warplanes' as count...                                            Russia Today: Columns of troops roll into Sout...  Russian tanks are moving towards the capital o...  Afghan children raped with 'impunity,' U.N. of...  150 Russian tanks have entered South Ossetia w...  Breaking: Georgia invades South Ossetia, Russi...  The 'enemy combatent' trials are nothing but a...  Georgian troops retreat from S. Osettain capit...     Did the U.S. Prep Georgia for War with Russia?                                                     Announcing:Class Action Lawsuit on Behalf of A...  So---Russia and Georgia are at war and the NYT...  China tells Bush to stay out of other countrie...                     Did World War III start today?  Georgia Invades South Ossetia - if Russia gets...                   Al-Qaeda Faces Islamist Backlash  Condoleezza Rice: \"The US would not act to pre...  This is a busy day:  The European Union has ap...   \n",
       "1.0    Why wont America and Nato help us? If they won...  Bush puts foot down on Georgian conflict  Jewish Georgian minister: Thanks to Israeli tr...  Georgian army flees in disarray as Russians ad...          Olympic opening ceremony fireworks 'faked  What were the Mossad with fraudulent New Zeala...  Russia angered by Israeli military sale to Geo...  An American citizen living in S.Ossetia blames...   Welcome To World War IV! Now In High Definition!  Georgia's move, a mistake of monumental propor...  Russia presses deeper into Georgia; U.S. says ...  Abhinav Bindra wins first ever Individual Olym...     U.S. ship heads for Arctic to define territory  Drivers in a Jerusalem taxi station threaten t...  The French Team is Stunned by Phelps and the 4...  Israel and the US behind the Georgian aggression?  \"Do not believe TV, neither Russian nor Georgi...  Riots are still going on in Montreal (Canada) ...       China to overtake US as largest manufacturer   \n",
       "\n",
       "                                                   Top20                                              Top21                                              Top22                                              Top23                                              Top24                                  Top25  final-label  \n",
       "Label                                                                                                                                                                                                                                                                                                                     \n",
       "0.0    Georgia will withdraw 1,000 soldiers from Iraq...  Why the Pentagon Thinks Attacking Iran is a Ba...  Caucasus in crisis: Georgia invades South Ossetia  Indian shoe manufactory  - And again in a seri...  Visitors Suffering from Mental Illnesses Banne...  No Help for Mexico's Kidnapping Surge          0.0  \n",
       "1.0                          War in South Ossetia [PICS]    Israeli Physicians Group Condemns State Torture   Russia has just beaten the United States over...  Perhaps *the* question about the Georgia - Rus...                    Russia is so much better at war                                                 1.0  "
      ]
     },
     "execution_count": 1,
     "metadata": {},
     "output_type": "execute_result"
    }
   ],
   "source": [
    "from sklearn.feature_extraction.text import CountVectorizer\n",
    "\n",
    "from src.data.features import split_train_test, split_features_target, make_document_vectors, make_day_feature\n",
    "from src.data.features import sentiment_subjectivity\n",
    "from src.data.features import generate_ents\n",
    "\n",
    "from src.utils import load_dataset, home\n",
    "\n",
    "raw = home / 'data' / 'interim'\n",
    "raw = load_dataset(raw)\n",
    "comb = raw['combined']\n",
    "comb = comb.iloc[:, :]\n",
    "\n",
    "comb.head(2)"
   ]
  },
  {
   "cell_type": "code",
   "execution_count": 2,
   "metadata": {},
   "outputs": [],
   "source": [
    "tr, te = split_train_test(comb)"
   ]
  },
  {
   "cell_type": "code",
   "execution_count": 3,
   "metadata": {},
   "outputs": [
    {
     "name": "stdout",
     "output_type": "stream",
     "text": [
      "splitting into x, y train \n",
      "cleaning news headlines\n",
      "target shape (1056, 1) distribution - 0.53125\n",
      "saving to data/interim\n",
      "splitting into x, y test \n",
      "cleaning news headlines\n",
      "target shape (528, 1) distribution - 0.5587121212121212\n",
      "saving to data/interim\n"
     ]
    }
   ],
   "source": [
    "load = False\n",
    "x_tr, y_tr = split_features_target(tr, 'train', load=load)\n",
    "x_te, y_te = split_features_target(te, 'test', load=load)"
   ]
  },
  {
   "cell_type": "markdown",
   "metadata": {},
   "source": [
    "## tidf"
   ]
  },
  {
   "cell_type": "code",
   "execution_count": 4,
   "metadata": {},
   "outputs": [
    {
     "name": "stdout",
     "output_type": "stream",
     "text": [
      "tr-score 0.7102272727272727\n",
      "te-score 0.5549242424242424\n",
      "avg-te-pred 0.9962121212121212\n"
     ]
    }
   ],
   "source": [
    "from sklearn.linear_model import LogisticRegression\n",
    "from sklearn.ensemble import RandomForestClassifier\n",
    "\n",
    "from src.models.train import fit, rf_params, lr_params\n",
    "from sklearn.feature_extraction.text import TfidfVectorizer\n",
    "\n",
    "rf = fit(\n",
    "    RandomForestClassifier(**rf_params),\n",
    "    x_tr, y_tr, x_te, y_te, vec=TfidfVectorizer()\n",
    ")"
   ]
  },
  {
   "cell_type": "code",
   "execution_count": 5,
   "metadata": {},
   "outputs": [
    {
     "name": "stdout",
     "output_type": "stream",
     "text": [
      "tr-score 1.0\n",
      "te-score 0.5170454545454546\n",
      "avg-te-pred 0.6553030303030303\n"
     ]
    }
   ],
   "source": [
    "rf = fit(\n",
    "    LogisticRegression(**lr_params),\n",
    "    x_tr, y_tr, x_te, y_te, vec=TfidfVectorizer()\n",
    ")"
   ]
  },
  {
   "cell_type": "markdown",
   "metadata": {},
   "source": [
    "## doc2vec"
   ]
  },
  {
   "cell_type": "code",
   "execution_count": 6,
   "metadata": {},
   "outputs": [],
   "source": [
    "tr_vecs, te_vecs = make_document_vectors(x_tr, x_te)"
   ]
  },
  {
   "cell_type": "code",
   "execution_count": 7,
   "metadata": {},
   "outputs": [
    {
     "name": "stdout",
     "output_type": "stream",
     "text": [
      "tr-score 0.7433712121212122\n",
      "te-score 0.5359848484848485\n",
      "avg-te-pred 0.803030303030303\n"
     ]
    }
   ],
   "source": [
    "rf = fit(\n",
    "    RandomForestClassifier(**rf_params),\n",
    "    tr_vecs, y_tr, te_vecs, y_te\n",
    ")"
   ]
  },
  {
   "cell_type": "markdown",
   "metadata": {},
   "source": [
    "## time series - day of week"
   ]
  },
  {
   "cell_type": "code",
   "execution_count": 8,
   "metadata": {},
   "outputs": [
    {
     "name": "stdout",
     "output_type": "stream",
     "text": [
      "tr-score 0.5359848484848485\n",
      "te-score 0.5587121212121212\n",
      "avg-te-pred 0.9507575757575758\n"
     ]
    }
   ],
   "source": [
    "tr_dates, te_dates = make_day_feature(x_tr, x_te)\n",
    "\n",
    "rf = fit(\n",
    "    RandomForestClassifier(**rf_params),\n",
    "    tr_dates, y_tr, te_dates, y_te\n",
    ")"
   ]
  },
  {
   "cell_type": "markdown",
   "metadata": {},
   "source": [
    "## Senitment & subjectivity"
   ]
  },
  {
   "cell_type": "code",
   "execution_count": 9,
   "metadata": {},
   "outputs": [
    {
     "name": "stdout",
     "output_type": "stream",
     "text": [
      "tr-score 0.6714015151515151\n",
      "te-score 0.5321969696969697\n",
      "avg-te-pred 0.8825757575757576\n"
     ]
    }
   ],
   "source": [
    "x_s_tr = sentiment_subjectivity(x_tr)\n",
    "x_s_te = sentiment_subjectivity(x_te)\n",
    "\n",
    "rf = fit(\n",
    "    RandomForestClassifier(**rf_params),\n",
    "    x_s_tr.values, y_tr, x_s_te.values, y_te\n",
    ")"
   ]
  },
  {
   "cell_type": "markdown",
   "metadata": {},
   "source": [
    "## entity extraction "
   ]
  },
  {
   "cell_type": "code",
   "execution_count": 10,
   "metadata": {},
   "outputs": [
    {
     "name": "stdout",
     "output_type": "stream",
     "text": [
      "generating tokens\n",
      "converting ents to str\n",
      "generating tokens\n",
      "converting ents to str\n",
      "tr-score 0.5691287878787878\n",
      "te-score 0.5587121212121212\n",
      "avg-te-pred 1.0\n"
     ]
    }
   ],
   "source": [
    "tr_ents = generate_ents(x_tr)\n",
    "te_ents = generate_ents(x_te)\n",
    "\n",
    "enc = CountVectorizer()\n",
    "tr_ents = enc.fit_transform(tr_ents)\n",
    "te_ents = enc.transform(te_ents)\n",
    "\n",
    "rf = fit(\n",
    "    RandomForestClassifier(**rf_params),\n",
    "    tr_ents, y_tr, te_ents, y_te\n",
    ")"
   ]
  },
  {
   "cell_type": "code",
   "execution_count": 11,
   "metadata": {},
   "outputs": [
    {
     "data": {
      "text/html": [
       "<div>\n",
       "<style scoped>\n",
       "    .dataframe tbody tr th:only-of-type {\n",
       "        vertical-align: middle;\n",
       "    }\n",
       "\n",
       "    .dataframe tbody tr th {\n",
       "        vertical-align: top;\n",
       "    }\n",
       "\n",
       "    .dataframe thead th {\n",
       "        text-align: right;\n",
       "    }\n",
       "</style>\n",
       "<table border=\"1\" class=\"dataframe\">\n",
       "  <thead>\n",
       "    <tr style=\"text-align: right;\">\n",
       "      <th></th>\n",
       "      <th>news</th>\n",
       "    </tr>\n",
       "    <tr>\n",
       "      <th>Label</th>\n",
       "      <th></th>\n",
       "    </tr>\n",
       "  </thead>\n",
       "  <tbody>\n",
       "    <tr>\n",
       "      <th>0.0</th>\n",
       "      <td>georgia down russian warplane country brink wa...</td>\n",
       "    </tr>\n",
       "    <tr>\n",
       "      <th>1.0</th>\n",
       "      <td>will not america nato help will not help help ...</td>\n",
       "    </tr>\n",
       "    <tr>\n",
       "      <th>0.0</th>\n",
       "      <td>remember adorable 9-year old sing open ceremon...</td>\n",
       "    </tr>\n",
       "    <tr>\n",
       "      <th>0.0</th>\n",
       "      <td>u.s refuse israel weapon attack iran report pr...</td>\n",
       "    </tr>\n",
       "    <tr>\n",
       "      <th>1.0</th>\n",
       "      <td>expert admit legalise drug war south osetia 89...</td>\n",
       "    </tr>\n",
       "  </tbody>\n",
       "</table>\n",
       "</div>"
      ],
      "text/plain": [
       "                                                    news\n",
       "Label                                                   \n",
       "0.0    georgia down russian warplane country brink wa...\n",
       "1.0    will not america nato help will not help help ...\n",
       "0.0    remember adorable 9-year old sing open ceremon...\n",
       "0.0    u.s refuse israel weapon attack iran report pr...\n",
       "1.0    expert admit legalise drug war south osetia 89..."
      ]
     },
     "execution_count": 11,
     "metadata": {},
     "output_type": "execute_result"
    }
   ],
   "source": [
    "x_tr.head()"
   ]
  },
  {
   "cell_type": "code",
   "execution_count": 12,
   "metadata": {},
   "outputs": [],
   "source": [
    "#  tdif\n",
    "vec = TfidfVectorizer()\n",
    "\n",
    "tr_f = [\n",
    "    vec.fit_transform(x_tr), \n",
    "]\n",
    "te_f = [\n",
    "    vec.transform(x_te), ]"
   ]
  }
 ],
 "metadata": {
  "kernelspec": {
   "display_name": "Python 3",
   "language": "python",
   "name": "python3"
  },
  "language_info": {
   "codemirror_mode": {
    "name": "ipython",
    "version": 3
   },
   "file_extension": ".py",
   "mimetype": "text/x-python",
   "name": "python",
   "nbconvert_exporter": "python",
   "pygments_lexer": "ipython3",
   "version": "3.7.2"
  }
 },
 "nbformat": 4,
 "nbformat_minor": 4
}
